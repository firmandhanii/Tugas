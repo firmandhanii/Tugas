{
  "cells": [
    {
      "cell_type": "code",
      "execution_count": 1,
      "metadata": {
        "id": "dyliV1Cv2sAx"
      },
      "outputs": [],
      "source": [
        "import pandas as pd\n",
        "import numpy as np\n",
        "import matplotlib.pyplot as plt\n",
        "import seaborn as sns"
      ]
    },
    {
      "cell_type": "code",
      "execution_count": 4,
      "metadata": {
        "colab": {
          "base_uri": "https://localhost:8080/",
          "height": 159
        },
        "id": "jSa7PuKn_fNY",
        "outputId": "7481dfc8-e3b9-44ad-e3e2-66169dfaeaeb"
      },
      "outputs": [
        {
          "ename": "NameError",
          "evalue": "name 'data' is not defined",
          "output_type": "error",
          "traceback": [
            "\u001b[1;31m---------------------------------------------------------------------------\u001b[0m",
            "\u001b[1;31mNameError\u001b[0m                                 Traceback (most recent call last)",
            "\u001b[1;32mc:\\Users\\calvi\\Downloads\\Tugas_Ke_6_SIA_Callista_Florencia_F.ipynb Cell 2\u001b[0m line \u001b[0;36m2\n\u001b[0;32m      <a href='vscode-notebook-cell:/c%3A/Users/calvi/Downloads/Tugas_Ke_6_SIA_Callista_Florencia_F.ipynb#W1sZmlsZQ%3D%3D?line=0'>1</a>\u001b[0m df \u001b[39m=\u001b[39m pd\u001b[39m.\u001b[39mread_csv(\u001b[39m'\u001b[39m\u001b[39mC:\u001b[39m\u001b[39m\\\\\u001b[39;00m\u001b[39mUsers\u001b[39m\u001b[39m\\\\\u001b[39;00m\u001b[39mcalvi\u001b[39m\u001b[39m\\\\\u001b[39;00m\u001b[39mDownloads\u001b[39m\u001b[39m\\\\\u001b[39;00m\u001b[39mDaikin_India_Employee_Reviews_from_AmbitionBox.csv\u001b[39m\u001b[39m'\u001b[39m)\n\u001b[1;32m----> <a href='vscode-notebook-cell:/c%3A/Users/calvi/Downloads/Tugas_Ke_6_SIA_Callista_Florencia_F.ipynb#W1sZmlsZQ%3D%3D?line=1'>2</a>\u001b[0m \u001b[39mprint\u001b[39m(data)\n",
            "\u001b[1;31mNameError\u001b[0m: name 'data' is not defined"
          ]
        }
      ],
      "source": [
        "df = pd.read_csv('C:\\\\Users\\\\calvi\\\\Downloads\\\\Daikin_India_Employee_Reviews_from_AmbitionBox.csv')\n",
        "print(data)"
      ]
    },
    {
      "cell_type": "code",
      "execution_count": null,
      "metadata": {
        "colab": {
          "base_uri": "https://localhost:8080/"
        },
        "id": "R442s3JOLXzS",
        "outputId": "af565b96-85ca-4b0d-843a-20430845c1f0"
      },
      "outputs": [],
      "source": [
        "data.info()"
      ]
    },
    {
      "cell_type": "code",
      "execution_count": null,
      "metadata": {
        "id": "ezH7ubzpbY6X"
      },
      "outputs": [],
      "source": [
        "data.dropna(inplace=True)"
      ]
    },
    {
      "cell_type": "code",
      "execution_count": null,
      "metadata": {
        "colab": {
          "base_uri": "https://localhost:8080/"
        },
        "id": "W_9xgLQgbzSp",
        "outputId": "f7734a95-db11-48c9-b2fe-12e8e7b5f5fc"
      },
      "outputs": [],
      "source": [
        "data.info()"
      ]
    },
    {
      "cell_type": "code",
      "execution_count": null,
      "metadata": {
        "colab": {
          "base_uri": "https://localhost:8080/",
          "height": 777
        },
        "id": "cmtbNWbtb9wj",
        "outputId": "161789c1-2eaa-4b2c-87cb-b42ddda1c37f"
      },
      "outputs": [],
      "source": [
        "data.describe()"
      ]
    },
    {
      "cell_type": "code",
      "execution_count": null,
      "metadata": {
        "colab": {
          "base_uri": "https://localhost:8080/",
          "height": 650
        },
        "id": "JAoiWPxHpms5",
        "outputId": "6bf89610-53fa-40f8-e5eb-503f2d37c2f8"
      },
      "outputs": [],
      "source": [
        "#1.\tJudul: Judul pekerjaan atau peran karyawan yang memberikan ulasan.\n",
        "data = pd.read_csv('/content/Daikin_India_Employee_Reviews_from_AmbitionBox.csv')\n",
        "title = data['Title']\n",
        "over_rating = data['Overall_rating']\n",
        "\n",
        "x = title\n",
        "y = over_rating\n",
        "\n",
        "title = data['Title'].dropna\n",
        "over_rating = data['Overall_rating'].dropna\n",
        "\n",
        "x.hist(figsize=(15,8))"
      ]
    },
    {
      "cell_type": "code",
      "execution_count": null,
      "metadata": {
        "colab": {
          "base_uri": "https://localhost:8080/",
          "height": 1000
        },
        "id": "wnbHdmTkrCI8",
        "outputId": "dcbcf937-0db1-4ecf-ca2f-c97ec619f09c"
      },
      "outputs": [],
      "source": [
        "#2.\tTempat: Lokasi geografis atau kota tempat karyawan bekerja.\n",
        "data = pd.read_csv('/content/Daikin_India_Employee_Reviews_from_AmbitionBox.csv')\n",
        "title = data['Title']\n",
        "place = data['Place']\n",
        "\n",
        "x = place\n",
        "y = title\n",
        "\n",
        "title = data['Title'].dropna\n",
        "place = data['Place'].dropna\n",
        "\n",
        "x.hist(figsize=(15,8))"
      ]
    },
    {
      "cell_type": "code",
      "execution_count": null,
      "metadata": {
        "colab": {
          "base_uri": "https://localhost:8080/",
          "height": 650
        },
        "id": "Sdv2nX12r2ZE",
        "outputId": "c0c3ec61-1651-4d39-d6d6-82457d1daf5d"
      },
      "outputs": [],
      "source": [
        "#3.\tJenis Pekerjaan: Status pekerjaan dari pemberi ulasan.\n",
        "data = pd.read_csv('/content/Daikin_India_Employee_Reviews_from_AmbitionBox.csv')\n",
        "title = data['Title']\n",
        "job_type = data['Job_type']\n",
        "\n",
        "x = title\n",
        "y = job_type\n",
        "\n",
        "title = data['Title'].dropna\n",
        "job_type = data['Job_type'].dropna\n",
        "\n",
        "x.hist(figsize=(15,8))"
      ]
    },
    {
      "cell_type": "code",
      "execution_count": null,
      "metadata": {
        "colab": {
          "base_uri": "https://localhost:8080/",
          "height": 650
        },
        "id": "ayplflibscR5",
        "outputId": "44ddfdb6-4306-4fdf-e995-251a2fedccd2"
      },
      "outputs": [],
      "source": [
        "#4.\tDepartemen: Departemen spesifik atau area fungsional dalam organisasi.\n",
        "data = pd.read_csv('/content/Daikin_India_Employee_Reviews_from_AmbitionBox.csv')\n",
        "title = data['Title']\n",
        "department = data['Department']\n",
        "\n",
        "x = title\n",
        "y = department\n",
        "\n",
        "title = data['Title'].dropna\n",
        "department = data['Department'].dropna\n",
        "\n",
        "x.hist(figsize=(15,8))"
      ]
    },
    {
      "cell_type": "code",
      "execution_count": null,
      "metadata": {
        "colab": {
          "base_uri": "https://localhost:8080/",
          "height": 211
        },
        "id": "4pWupsaFs6aa",
        "outputId": "76708b87-8c08-4839-8031-6b0695076fe9"
      },
      "outputs": [],
      "source": [
        "#5.\tTanggal: Tanggal ketika ulasan diajukan\n",
        "data = pd.read_csv('/content/Daikin_India_Employee_Reviews_from_AmbitionBox.csv')\n",
        "date = data['Date']\n",
        "over_ratingver_rating = data['Overall_rating']\n",
        "\n",
        "x = date\n",
        "y = over_rating\n",
        "\n",
        "Date = data['Date'].dropna\n",
        "over_rating = data['Overall_rating'].dropna\n",
        "\n",
        "x.hist(figsize=(15,8))"
      ]
    },
    {
      "cell_type": "code",
      "execution_count": null,
      "metadata": {
        "colab": {
          "base_uri": "https://localhost:8080/",
          "height": 650
        },
        "id": "M0D4cjd2tw1p",
        "outputId": "17a9610b-0db1-4ac6-c3c3-ae1372340a90"
      },
      "outputs": [],
      "source": [
        "#6.\tPeringkat Keseluruhan: Peringkat numerik yang diberikan oleh karyawan untuk kepuasan kerja secara keseluruhan.\n",
        "data = pd.read_csv('/content/Daikin_India_Employee_Reviews_from_AmbitionBox.csv')\n",
        "title = data['Title']\n",
        "over_rating = data['Overall_rating']\n",
        "\n",
        "x = title\n",
        "y = over_rating\n",
        "\n",
        "title = data['Title'].dropna\n",
        "over_rating = data['Overall_rating'].dropna\n",
        "\n",
        "x.hist(figsize=(15,8))"
      ]
    },
    {
      "cell_type": "code",
      "execution_count": null,
      "metadata": {
        "colab": {
          "base_uri": "https://localhost:8080/",
          "height": 650
        },
        "id": "aCZ6AC3OubZR",
        "outputId": "9643f0f3-0364-4984-f1da-0963fc866dd6"
      },
      "outputs": [],
      "source": [
        "#7.\tKeseimbangan Kehidupan Kerja: Peringkat yang menunjukkan keseimbangan kehidupan kerja yang dialami oleh karyawan.\n",
        "data = pd.read_csv('/content/Daikin_India_Employee_Reviews_from_AmbitionBox.csv')\n",
        "title = data['Title']\n",
        "work_life = data['work_life_balance']\n",
        "\n",
        "x = title\n",
        "y = work_life\n",
        "\n",
        "title = data['Title'].dropna\n",
        "work_life = data['work_life_balance'].dropna\n",
        "\n",
        "x.hist(figsize=(15,8))"
      ]
    },
    {
      "cell_type": "code",
      "execution_count": null,
      "metadata": {
        "colab": {
          "base_uri": "https://localhost:8080/",
          "height": 650
        },
        "id": "QoisF7F9u6BZ",
        "outputId": "061bab39-642a-4c85-a3eb-cf4ee703d30f"
      },
      "outputs": [],
      "source": [
        "#8.\tPengembangan Keterampilan: Peringkat yang mencerminkan peluang untuk peningkatan dan pertumbuhan keterampilan.\n",
        "data = pd.read_csv('/content/Daikin_India_Employee_Reviews_from_AmbitionBox.csv')\n",
        "title = data['Title']\n",
        "skill_develop = data['skill_development']\n",
        "\n",
        "x = title\n",
        "y = skill_develop\n",
        "\n",
        "title = data['Title'].dropna\n",
        "skill_develop = data['skill_development'].dropna\n",
        "\n",
        "x.hist(figsize=(15,8))"
      ]
    },
    {
      "cell_type": "code",
      "execution_count": null,
      "metadata": {
        "colab": {
          "base_uri": "https://localhost:8080/",
          "height": 650
        },
        "id": "r8B2uiIhvq9h",
        "outputId": "361dcbea-dc5d-42cf-e57c-8241f8f5462e"
      },
      "outputs": [],
      "source": [
        "#9.\tGaji dan Tunjangan: Peringkat yang menilai kepuasan terhadap kompensasi dan tunjangan.\n",
        "data = pd.read_csv('/content/Daikin_India_Employee_Reviews_from_AmbitionBox.csv')\n",
        "title = data['Title']\n",
        "salary_and_benefits = data['salary_and_benefits']\n",
        "\n",
        "x = title\n",
        "y = salary_and_benefits\n",
        "\n",
        "title = data['Title'].dropna\n",
        "salary_and_benefits = data['salary_and_benefits'].dropna\n",
        "\n",
        "x.hist(figsize=(15,8))"
      ]
    },
    {
      "cell_type": "code",
      "execution_count": null,
      "metadata": {
        "colab": {
          "base_uri": "https://localhost:8080/",
          "height": 716
        },
        "id": "kLINakUowOSw",
        "outputId": "9ef47519-5404-40f3-e589-5204cd2c40e3"
      },
      "outputs": [],
      "source": [
        "#10.\tKeamanan Pekerjaan: Peringkat yang menyatakan rasa aman karyawan terhadap pekerjaannya.\n",
        "data = pd.read_csv('/content/Daikin_India_Employee_Reviews_from_AmbitionBox.csv')\n",
        "title = data['Title']\n",
        "job_security = data['job_security']\n",
        "\n",
        "x = title\n",
        "y = job_security\n",
        "\n",
        "title = data['Title'].dropna\n",
        "job_security = data['job_security'].dropna\n",
        "\n",
        "x.hist(figsize=(15,8))"
      ]
    },
    {
      "cell_type": "code",
      "execution_count": null,
      "metadata": {
        "colab": {
          "base_uri": "https://localhost:8080/",
          "height": 650
        },
        "id": "bRB8G5RzwnBf",
        "outputId": "70a2f1a0-0d14-4a4c-b941-b62653d87d70"
      },
      "outputs": [],
      "source": [
        "#11.\tPertumbuhan Karir: Peringkat yang menunjukkan peluang kemajuan karir yang dirasakan.\n",
        "data = pd.read_csv('/content/Daikin_India_Employee_Reviews_from_AmbitionBox.csv')\n",
        "title = data['Title']\n",
        "career_growth = data['career_growth']\n",
        "\n",
        "x = title\n",
        "y = career_growth\n",
        "\n",
        "title = data['Title'].dropna\n",
        "career_growth = data['career_growth'].dropna\n",
        "\n",
        "x.hist(figsize=(15,8))"
      ]
    },
    {
      "cell_type": "code",
      "execution_count": null,
      "metadata": {
        "colab": {
          "base_uri": "https://localhost:8080/",
          "height": 650
        },
        "id": "KtiSHO_Bw9q6",
        "outputId": "9784a18c-56e2-43c6-fd7c-8ff8abcbb34a"
      },
      "outputs": [],
      "source": [
        "#12.\tKepuasan Kerja: Peringkat yang menunjukkan kepuasan karyawan terhadap pekerjaannya.\n",
        "data = pd.read_csv('/content/Daikin_India_Employee_Reviews_from_AmbitionBox.csv')\n",
        "title = data['Title']\n",
        "work_satisfaction = data['work_satisfaction']\n",
        "\n",
        "x = title\n",
        "y = work_satisfaction\n",
        "\n",
        "title = data['Title'].dropna\n",
        "work_satisfaction = data['work_satisfaction'].dropna\n",
        "\n",
        "x.hist(figsize=(15,8))"
      ]
    },
    {
      "cell_type": "code",
      "execution_count": null,
      "metadata": {
        "colab": {
          "base_uri": "https://localhost:8080/",
          "height": 650
        },
        "id": "tRWnpI9gxNrw",
        "outputId": "e52cab47-1363-4d76-8d64-49288027b59b"
      },
      "outputs": [],
      "source": [
        "#13.\tSuka: Aspek positif dan kelebihan yang disoroti oleh karyawan dalam ulasan mereka.\n",
        "data = pd.read_csv('/content/Daikin_India_Employee_Reviews_from_AmbitionBox.csv')\n",
        "title = data['Title']\n",
        "Likes = data['Likes']\n",
        "\n",
        "x = title\n",
        "y = Likes\n",
        "\n",
        "title = data['Title'].dropna\n",
        "Likes = data['Likes'].dropna\n",
        "\n",
        "x.hist(figsize=(15,8))"
      ]
    },
    {
      "cell_type": "code",
      "execution_count": null,
      "metadata": {
        "colab": {
          "base_uri": "https://localhost:8080/",
          "height": 650
        },
        "id": "2GZl7U_exZta",
        "outputId": "e213cf04-8c57-4b70-9058-818190b28455"
      },
      "outputs": [],
      "source": [
        "#14. Tidak Suka: Aspek negatif dan kekurangan yang disebutkan oleh karyawan dalam ulasan mereka.\n",
        "data = pd.read_csv('/content/Daikin_India_Employee_Reviews_from_AmbitionBox.csv')\n",
        "title = data['Title']\n",
        "Dislikes = data['Dislikes']\n",
        "\n",
        "x = title\n",
        "y = Dislikes\n",
        "\n",
        "title = data['Title'].dropna\n",
        "Dislikes = data['Dislikes'].dropna\n",
        "\n",
        "x.hist(figsize=(15,8))"
      ]
    }
  ],
  "metadata": {
    "colab": {
      "provenance": []
    },
    "kernelspec": {
      "display_name": "Python 3",
      "name": "python3"
    },
    "language_info": {
      "codemirror_mode": {
        "name": "ipython",
        "version": 3
      },
      "file_extension": ".py",
      "mimetype": "text/x-python",
      "name": "python",
      "nbconvert_exporter": "python",
      "pygments_lexer": "ipython3",
      "version": "3.12.0"
    }
  },
  "nbformat": 4,
  "nbformat_minor": 0
}
